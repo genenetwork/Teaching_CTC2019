{
 "cells": [
  {
   "cell_type": "markdown",
   "metadata": {},
   "source": [
    "# Mapping QTL in BXD mice using R/qtl2\n",
    "\n",
    "[Karl Broman](https://kbroman.org)\n",
    "[<img style=\"display:inline-block;\" src=\"https://orcid.org/sites/default/files/images/orcid_16x16(1).gif\">](https://orcid.org/0000-0002-4914-6671),\n",
    "[Department of Biostatistics & Medical Informatics](https://www.biostat.wisc.edu), \n",
    "[University of Wisconsin&ndash;Madison](https://www.wisc.edu)\n",
    "\n",
    "Our aim in this tutorial is to demonstrate how to map quantitative trait loci (QTL) in the BXD mouse recombinant inbred lines using the [R/qtl2](https://kbroman.org/qtl2) software. We will first show how to download BXD phenotypes from [GeneNetwork2](http://gn2.genenetwork.org) using its API, via the R package [R/GNapi](https://github.com/rqtl/GNapi). At the end, we will use the [R/qtl2browse](https://github.com/rqtl/qtl2browse) package to display genome scan results using the [Genetics Genome Browser](https://github.com/chfi/purescript-genome-browser)."
   ]
  },
  {
   "cell_type": "markdown",
   "metadata": {},
   "source": [
    "## Acquiring phenotypes with the GeneNetwork API\n",
    "\n",
    "We will first use the [GeneNetwork2](http://gn2.genenetwork.org) API to acquire BXD phenotypes to use for mapping. We will use the R package [R/GNapi](https://github.com/rqtl/GNapi). \n",
    "\n",
    "We first need to install the package from its [GitHub](https://github.com) repository. To do so, we need the [devtools](https://github.com/r-lib/devtools) package.\n",
    "\n",
    "```r\n",
    "install.packages(\"devtools\")\n",
    "```\n",
    "\n",
    "We then load the devtools package and install the R/GNapi package with `install_github()`.\n",
    "\n",
    "```r\n",
    "library(devtools)\n",
    "install_github(\"rqtl/GNapi\")\n",
    "```"
   ]
  },
  {
   "cell_type": "code",
   "execution_count": 1,
   "metadata": {
    "collapsed": true
   },
   "outputs": [],
   "source": [
    "library(GNapi)"
   ]
  },
  {
   "cell_type": "code",
   "execution_count": 2,
   "metadata": {
    "collapsed": false
   },
   "outputs": [
    {
     "data": {
      "text/html": [
       "<table>\n",
       "<caption>A data.frame: 6 × 5</caption>\n",
       "<thead>\n",
       "\t<tr><th></th><th scope=col>data_id</th><th scope=col>sample_name</th><th scope=col>sample_name_2</th><th scope=col>se</th><th scope=col>value</th></tr>\n",
       "\t<tr><th></th><th scope=col>&lt;int&gt;</th><th scope=col>&lt;chr&gt;</th><th scope=col>&lt;chr&gt;</th><th scope=col>&lt;dbl&gt;</th><th scope=col>&lt;dbl&gt;</th></tr>\n",
       "</thead>\n",
       "<tbody>\n",
       "\t<tr><th scope=row>BXD1</th><td>8967057</td><td>BXD1 </td><td>BXD1 </td><td>0.17</td><td>4.81</td></tr>\n",
       "\t<tr><th scope=row>BXD11</th><td>8967057</td><td>BXD11</td><td>BXD11</td><td>0.25</td><td>8.39</td></tr>\n",
       "\t<tr><th scope=row>BXD12</th><td>8967057</td><td>BXD12</td><td>BXD12</td><td>0.26</td><td>4.71</td></tr>\n",
       "\t<tr><th scope=row>BXD13</th><td>8967057</td><td>BXD13</td><td>BXD13</td><td>  NA</td><td>4.43</td></tr>\n",
       "\t<tr><th scope=row>BXD14</th><td>8967057</td><td>BXD14</td><td>BXD14</td><td>0.06</td><td>4.83</td></tr>\n",
       "\t<tr><th scope=row>BXD15</th><td>8967057</td><td>BXD15</td><td>BXD15</td><td>0.26</td><td>8.33</td></tr>\n",
       "</tbody>\n",
       "</table>\n"
      ],
      "text/latex": [
       "A data.frame: 6 × 5\n",
       "\\begin{tabular}{r|lllll}\n",
       "  & data\\_id & sample\\_name & sample\\_name\\_2 & se & value\\\\\n",
       "  & <int> & <chr> & <chr> & <dbl> & <dbl>\\\\\n",
       "\\hline\n",
       "\tBXD1 & 8967057 & BXD1  & BXD1  & 0.17 & 4.81\\\\\n",
       "\tBXD11 & 8967057 & BXD11 & BXD11 & 0.25 & 8.39\\\\\n",
       "\tBXD12 & 8967057 & BXD12 & BXD12 & 0.26 & 4.71\\\\\n",
       "\tBXD13 & 8967057 & BXD13 & BXD13 &   NA & 4.43\\\\\n",
       "\tBXD14 & 8967057 & BXD14 & BXD14 & 0.06 & 4.83\\\\\n",
       "\tBXD15 & 8967057 & BXD15 & BXD15 & 0.26 & 8.33\\\\\n",
       "\\end{tabular}\n"
      ],
      "text/markdown": [
       "\n",
       "A data.frame: 6 × 5\n",
       "\n",
       "| <!--/--> | data_id &lt;int&gt; | sample_name &lt;chr&gt; | sample_name_2 &lt;chr&gt; | se &lt;dbl&gt; | value &lt;dbl&gt; |\n",
       "|---|---|---|---|---|---|\n",
       "| BXD1 | 8967057 | BXD1  | BXD1  | 0.17 | 4.81 |\n",
       "| BXD11 | 8967057 | BXD11 | BXD11 | 0.25 | 8.39 |\n",
       "| BXD12 | 8967057 | BXD12 | BXD12 | 0.26 | 4.71 |\n",
       "| BXD13 | 8967057 | BXD13 | BXD13 |   NA | 4.43 |\n",
       "| BXD14 | 8967057 | BXD14 | BXD14 | 0.06 | 4.83 |\n",
       "| BXD15 | 8967057 | BXD15 | BXD15 | 0.26 | 8.33 |\n",
       "\n"
      ],
      "text/plain": [
       "      data_id sample_name sample_name_2 se   value\n",
       "BXD1  8967057 BXD1        BXD1          0.17 4.81 \n",
       "BXD11 8967057 BXD11       BXD11         0.25 8.39 \n",
       "BXD12 8967057 BXD12       BXD12         0.26 4.71 \n",
       "BXD13 8967057 BXD13       BXD13           NA 4.43 \n",
       "BXD14 8967057 BXD14       BXD14         0.06 4.83 \n",
       "BXD15 8967057 BXD15       BXD15         0.26 8.33 "
      ]
     },
     "metadata": {},
     "output_type": "display_data"
    }
   ],
   "source": [
    "phe <- get_pheno(\"BXD\", \"10015\")\n",
    "head(phe)"
   ]
  },
  {
   "cell_type": "code",
   "execution_count": 3,
   "metadata": {
    "collapsed": false
   },
   "outputs": [
    {
     "data": {
      "text/html": [
       "<dl class=dl-horizontal>\n",
       "\t<dt>BXD1</dt>\n",
       "\t\t<dd>4.81</dd>\n",
       "\t<dt>BXD11</dt>\n",
       "\t\t<dd>8.39</dd>\n",
       "\t<dt>BXD12</dt>\n",
       "\t\t<dd>4.71</dd>\n",
       "\t<dt>BXD13</dt>\n",
       "\t\t<dd>4.43</dd>\n",
       "\t<dt>BXD14</dt>\n",
       "\t\t<dd>4.83</dd>\n",
       "\t<dt>BXD15</dt>\n",
       "\t\t<dd>8.33</dd>\n",
       "</dl>\n"
      ],
      "text/latex": [
       "\\begin{description*}\n",
       "\\item[BXD1] 4.81\n",
       "\\item[BXD11] 8.39\n",
       "\\item[BXD12] 4.71\n",
       "\\item[BXD13] 4.43\n",
       "\\item[BXD14] 4.83\n",
       "\\item[BXD15] 8.33\n",
       "\\end{description*}\n"
      ],
      "text/markdown": [
       "BXD1\n",
       ":   4.81BXD11\n",
       ":   8.39BXD12\n",
       ":   4.71BXD13\n",
       ":   4.43BXD14\n",
       ":   4.83BXD15\n",
       ":   8.33\n",
       "\n"
      ],
      "text/plain": [
       " BXD1 BXD11 BXD12 BXD13 BXD14 BXD15 \n",
       " 4.81  8.39  4.71  4.43  4.83  8.33 "
      ]
     },
     "metadata": {},
     "output_type": "display_data"
    }
   ],
   "source": [
    "pheno <- tapply(phe$value, phe$sample_name, median)\n",
    "head(pheno)"
   ]
  },
  {
   "cell_type": "markdown",
   "metadata": {},
   "source": [
    "## Acquire genotype data with R/qtl2\n",
    "\n",
    "We now want to get genotype data for the BXD panel. We first need to install the [R/qtl2](https://kbroman.org/qtl2) package. It is not available on CRAN, but rather is distributed via a private repository. But we can still use `install.packages()` to install it.\n",
    "\n",
    "```r\n",
    "install.packages(\"qtl2\", repos=\"http://rqtl.org/qtl2cran\")\n",
    "```\n",
    "\n",
    "We then load the package with `library()`."
   ]
  },
  {
   "cell_type": "code",
   "execution_count": 4,
   "metadata": {
    "collapsed": true
   },
   "outputs": [],
   "source": [
    "library(qtl2)"
   ]
  },
  {
   "cell_type": "code",
   "execution_count": 5,
   "metadata": {
    "collapsed": false
   },
   "outputs": [
    {
     "name": "stderr",
     "output_type": "stream",
     "text": [
      "Warning message in recode_geno(sheet, genotypes):\n",
      "“117497 genotypes treated as missing: \"H\"”"
     ]
    }
   ],
   "source": [
    "bxd_file <- \"https://raw.githubusercontent.com/rqtl/qtl2data/master/BXD/bxd.zip\"\n",
    "bxd <- read_cross2(bxd_file)"
   ]
  },
  {
   "cell_type": "code",
   "execution_count": 6,
   "metadata": {
    "collapsed": true
   },
   "outputs": [],
   "source": [
    "gmap <- insert_pseudomarkers(bxd$gmap, step=0.2, stepwidth=\"max\")"
   ]
  },
  {
   "cell_type": "code",
   "execution_count": 7,
   "metadata": {
    "collapsed": true
   },
   "outputs": [],
   "source": [
    "pmap <- interp_map(gmap, bxd$gmap, bxd$pmap)"
   ]
  },
  {
   "cell_type": "code",
   "execution_count": 8,
   "metadata": {
    "collapsed": true
   },
   "outputs": [],
   "source": [
    "pr <- calc_genoprob(bxd, gmap, error_prob=0.002, map_function=\"c-f\")"
   ]
  },
  {
   "cell_type": "code",
   "execution_count": 9,
   "metadata": {
    "collapsed": true
   },
   "outputs": [],
   "source": [
    "k <- calc_kinship(pr, \"loco\")"
   ]
  },
  {
   "cell_type": "code",
   "execution_count": 10,
   "metadata": {
    "collapsed": true
   },
   "outputs": [],
   "source": [
    "out <- scan1(pr, pheno, k)"
   ]
  },
  {
   "cell_type": "code",
   "execution_count": 11,
   "metadata": {
    "collapsed": false
   },
   "outputs": [
    {
     "data": {
      "image/png": "[encoded data removed]",
      "text/plain": [
       "Plot with title “”"
      ]
     },
     "metadata": {},
     "output_type": "display_data"
    }
   ],
   "source": [
    "library(repr)\n",
    "options(repr.plot.height=4, repr.plot.width=8)\n",
    "par(mar=c(5.1, 4.1, 0.6, 0.6))\n",
    "plot(out, pmap, chr=2)"
   ]
  },
  {
   "cell_type": "code",
   "execution_count": 12,
   "metadata": {
    "collapsed": true
   },
   "outputs": [],
   "source": [
    "mx <- max(out, pmap)\n",
    "g_imp <- maxmarg(pr, pmap, chr=\"2\", pos=mx$pos, return_char=TRUE)"
   ]
  },
  {
   "cell_type": "code",
   "execution_count": 13,
   "metadata": {
    "collapsed": false
   },
   "outputs": [
    {
     "data": {
      "image/png": "[encoded data removed]",
      "text/plain": [
       "Plot with title “”"
      ]
     },
     "metadata": {},
     "output_type": "display_data"
    }
   ],
   "source": [
    "par(mar=c(5.1, 4.1, 0.6, 0.6))\n",
    "plot_pxg(g_imp, pheno, swap_axes=TRUE)"
   ]
  },
  {
   "cell_type": "markdown",
   "metadata": {},
   "source": [
    "## Browse genome scan results with Genetics Genome Browser\n",
    "\n",
    "The [Genetics Genome Browser](https://github.com/chfi/purescript-genome-browser) is a fast, lightweight, [purescript]-based genome browser developed for browsing GWAS or QTL analysis results. We'll use the R package [R/qtl2browse](https://github.com/rqtl/qtl2browse) to view our QTL mapping results in the GGB.\n",
    "\n",
    "We first need to install the R/qtl2browse package using `devtools::install_github()`.\n",
    "\n",
    "```r\n",
    "library(devtools)\n",
    "install_github(\"rqtl/qtl2browse\")\n",
    "```\n",
    "\n",
    "We then load the package and use its one function, `browse()`, which takes the `scan1()` output and corresponding physical map (in Mbp). This will open the Genetics Genome Browser in a separate tab in your web browser."
   ]
  },
  {
   "cell_type": "code",
   "execution_count": 14,
   "metadata": {
    "collapsed": true
   },
   "outputs": [],
   "source": [
    "library(qtl2browse)\n",
    "browse(out, pmap)"
   ]
  }
 ],
 "metadata": {
  "kernelspec": {
   "display_name": "R",
   "language": "R",
   "name": "ir"
  },
  "language_info": {
   "codemirror_mode": "r",
   "file_extension": ".r",
   "mimetype": "text/x-r-source",
   "name": "R",
   "pygments_lexer": "r",
   "version": "3.6.0"
  }
 },
 "nbformat": 4,
 "nbformat_minor": 2
}
