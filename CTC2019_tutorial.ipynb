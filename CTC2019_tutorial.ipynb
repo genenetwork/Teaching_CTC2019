{
 "cells": [
  {
   "cell_type": "code",
   "execution_count": 1,
   "metadata": {},
   "outputs": [
    {
     "name": "stderr",
     "output_type": "stream",
     "text": [
      "Downloading GitHub repo kbroman/GNapi@master\n"
     ]
    },
    {
     "name": "stdout",
     "output_type": "stream",
     "text": [
      "\n",
      "\u001b[32m✔\u001b[39m  \u001b[38;5;247mchecking for file ‘/tmp/RtmpCTaO31/remotes35ba726d1f83/kbroman-GNapi-2eafaf6/DESCRIPTION’\u001b[39m\u001b[36m\u001b[39m\n",
      "\u001b[38;5;247m─\u001b[39m\u001b[38;5;247m  \u001b[39m\u001b[38;5;247mpreparing ‘GNapi’:\u001b[39m\u001b[36m\u001b[39m\n",
      "\u001b[32m✔\u001b[39m  \u001b[38;5;247mchecking DESCRIPTION meta-information\u001b[39m\u001b[36m\u001b[39m\n",
      "\u001b[38;5;247m─\u001b[39m\u001b[38;5;247m  \u001b[39m\u001b[38;5;247mchecking for LF line-endings in source and make files and shell scripts\u001b[39m\u001b[36m\u001b[39m\n",
      "\u001b[38;5;247m─\u001b[39m\u001b[38;5;247m  \u001b[39m\u001b[38;5;247mchecking for empty or unneeded directories\u001b[39m\u001b[36m\u001b[39m\n",
      "   Removed empty directory ‘GNapi/docs’\n",
      "\u001b[38;5;247m─\u001b[39m\u001b[38;5;247m  \u001b[39m\u001b[38;5;247mbuilding ‘GNapi_0.2-1.tar.gz’\u001b[39m\u001b[36m\u001b[39m\n",
      "   \n",
      "\r"
     ]
    },
    {
     "name": "stderr",
     "output_type": "stream",
     "text": [
      "Installing package into ‘/home/kbroman/Rlibs’\n",
      "(as ‘lib’ is unspecified)\n"
     ]
    }
   ],
   "source": [
    "devtools::install_github(\"kbroman/GNapi\")"
   ]
  },
  {
   "cell_type": "code",
   "execution_count": 2,
   "metadata": {},
   "outputs": [],
   "source": [
    "library(GNapi)"
   ]
  },
  {
   "cell_type": "code",
   "execution_count": 3,
   "metadata": {},
   "outputs": [
    {
     "name": "stderr",
     "output_type": "stream",
     "text": [
      "Warning message in get_pheno(\"BXD\", \"10015\"):\n",
      "“sample_name values are not distinct”"
     ]
    }
   ],
   "source": [
    "phe <- get_pheno(\"BXD\", \"10015\")"
   ]
  },
  {
   "cell_type": "code",
   "execution_count": 4,
   "metadata": {},
   "outputs": [
    {
     "data": {
      "text/html": [
       "<table>\n",
       "<caption>A data.frame: 6 × 5</caption>\n",
       "<thead>\n",
       "\t<tr><th scope=col>data_id</th><th scope=col>sample_name</th><th scope=col>sample_name_2</th><th scope=col>se</th><th scope=col>value</th></tr>\n",
       "\t<tr><th scope=col>&lt;int&gt;</th><th scope=col>&lt;chr&gt;</th><th scope=col>&lt;chr&gt;</th><th scope=col>&lt;dbl&gt;</th><th scope=col>&lt;dbl&gt;</th></tr>\n",
       "</thead>\n",
       "<tbody>\n",
       "\t<tr><td>8967057</td><td>BXD1 </td><td>BXD1 </td><td>0.17</td><td>4.81</td></tr>\n",
       "\t<tr><td>8967057</td><td>BXD1 </td><td>BXD1 </td><td>0.17</td><td>4.81</td></tr>\n",
       "\t<tr><td>8967057</td><td>BXD11</td><td>BXD11</td><td>0.25</td><td>8.39</td></tr>\n",
       "\t<tr><td>8967057</td><td>BXD11</td><td>BXD11</td><td>0.25</td><td>8.39</td></tr>\n",
       "\t<tr><td>8967057</td><td>BXD12</td><td>BXD12</td><td>0.26</td><td>4.71</td></tr>\n",
       "\t<tr><td>8967057</td><td>BXD12</td><td>BXD12</td><td>0.26</td><td>4.71</td></tr>\n",
       "</tbody>\n",
       "</table>\n"
      ],
      "text/latex": [
       "A data.frame: 6 × 5\n",
       "\\begin{tabular}{r|lllll}\n",
       " data\\_id & sample\\_name & sample\\_name\\_2 & se & value\\\\\n",
       " <int> & <chr> & <chr> & <dbl> & <dbl>\\\\\n",
       "\\hline\n",
       "\t 8967057 & BXD1  & BXD1  & 0.17 & 4.81\\\\\n",
       "\t 8967057 & BXD1  & BXD1  & 0.17 & 4.81\\\\\n",
       "\t 8967057 & BXD11 & BXD11 & 0.25 & 8.39\\\\\n",
       "\t 8967057 & BXD11 & BXD11 & 0.25 & 8.39\\\\\n",
       "\t 8967057 & BXD12 & BXD12 & 0.26 & 4.71\\\\\n",
       "\t 8967057 & BXD12 & BXD12 & 0.26 & 4.71\\\\\n",
       "\\end{tabular}\n"
      ],
      "text/markdown": [
       "\n",
       "A data.frame: 6 × 5\n",
       "\n",
       "| data_id &lt;int&gt; | sample_name &lt;chr&gt; | sample_name_2 &lt;chr&gt; | se &lt;dbl&gt; | value &lt;dbl&gt; |\n",
       "|---|---|---|---|---|\n",
       "| 8967057 | BXD1  | BXD1  | 0.17 | 4.81 |\n",
       "| 8967057 | BXD1  | BXD1  | 0.17 | 4.81 |\n",
       "| 8967057 | BXD11 | BXD11 | 0.25 | 8.39 |\n",
       "| 8967057 | BXD11 | BXD11 | 0.25 | 8.39 |\n",
       "| 8967057 | BXD12 | BXD12 | 0.26 | 4.71 |\n",
       "| 8967057 | BXD12 | BXD12 | 0.26 | 4.71 |\n",
       "\n"
      ],
      "text/plain": [
       "  data_id sample_name sample_name_2 se   value\n",
       "1 8967057 BXD1        BXD1          0.17 4.81 \n",
       "2 8967057 BXD1        BXD1          0.17 4.81 \n",
       "3 8967057 BXD11       BXD11         0.25 8.39 \n",
       "4 8967057 BXD11       BXD11         0.25 8.39 \n",
       "5 8967057 BXD12       BXD12         0.26 4.71 \n",
       "6 8967057 BXD12       BXD12         0.26 4.71 "
      ]
     },
     "metadata": {},
     "output_type": "display_data"
    }
   ],
   "source": [
    "head(phe)"
   ]
  },
  {
   "cell_type": "code",
   "execution_count": 6,
   "metadata": {},
   "outputs": [
    {
     "data": {
      "text/html": [
       "<dl class=dl-horizontal>\n",
       "\t<dt>BXD1</dt>\n",
       "\t\t<dd>4.81</dd>\n",
       "\t<dt>BXD11</dt>\n",
       "\t\t<dd>8.39</dd>\n",
       "\t<dt>BXD12</dt>\n",
       "\t\t<dd>4.71</dd>\n",
       "\t<dt>BXD13</dt>\n",
       "\t\t<dd>4.43</dd>\n",
       "\t<dt>BXD14</dt>\n",
       "\t\t<dd>4.83</dd>\n",
       "\t<dt>BXD15</dt>\n",
       "\t\t<dd>8.33</dd>\n",
       "\t<dt>BXD16</dt>\n",
       "\t\t<dd>9.72</dd>\n",
       "\t<dt>BXD18</dt>\n",
       "\t\t<dd>9.64</dd>\n",
       "\t<dt>BXD19</dt>\n",
       "\t\t<dd>10.51</dd>\n",
       "\t<dt>BXD2</dt>\n",
       "\t\t<dd>8.41</dd>\n",
       "\t<dt>BXD21</dt>\n",
       "\t\t<dd>4.2</dd>\n",
       "\t<dt>BXD22</dt>\n",
       "\t\t<dd>5.14</dd>\n",
       "\t<dt>BXD24</dt>\n",
       "\t\t<dd>5.02</dd>\n",
       "\t<dt>BXD25</dt>\n",
       "\t\t<dd>4.63</dd>\n",
       "\t<dt>BXD27</dt>\n",
       "\t\t<dd>9.03</dd>\n",
       "\t<dt>BXD28</dt>\n",
       "\t\t<dd>9.72</dd>\n",
       "\t<dt>BXD29</dt>\n",
       "\t\t<dd>9.52</dd>\n",
       "\t<dt>BXD30</dt>\n",
       "\t\t<dd>4.92</dd>\n",
       "\t<dt>BXD31</dt>\n",
       "\t\t<dd>4.84</dd>\n",
       "\t<dt>BXD32</dt>\n",
       "\t\t<dd>3.91</dd>\n",
       "\t<dt>BXD5</dt>\n",
       "\t\t<dd>4.61</dd>\n",
       "\t<dt>BXD6</dt>\n",
       "\t\t<dd>8.31</dd>\n",
       "\t<dt>BXD8</dt>\n",
       "\t\t<dd>5.11</dd>\n",
       "\t<dt>BXD9</dt>\n",
       "\t\t<dd>4.7</dd>\n",
       "\t<dt>C57BL/6J</dt>\n",
       "\t\t<dd>10.12</dd>\n",
       "\t<dt>DBA/2J</dt>\n",
       "\t\t<dd>4.61</dd>\n",
       "</dl>\n"
      ],
      "text/latex": [
       "\\begin{description*}\n",
       "\\item[BXD1] 4.81\n",
       "\\item[BXD11] 8.39\n",
       "\\item[BXD12] 4.71\n",
       "\\item[BXD13] 4.43\n",
       "\\item[BXD14] 4.83\n",
       "\\item[BXD15] 8.33\n",
       "\\item[BXD16] 9.72\n",
       "\\item[BXD18] 9.64\n",
       "\\item[BXD19] 10.51\n",
       "\\item[BXD2] 8.41\n",
       "\\item[BXD21] 4.2\n",
       "\\item[BXD22] 5.14\n",
       "\\item[BXD24] 5.02\n",
       "\\item[BXD25] 4.63\n",
       "\\item[BXD27] 9.03\n",
       "\\item[BXD28] 9.72\n",
       "\\item[BXD29] 9.52\n",
       "\\item[BXD30] 4.92\n",
       "\\item[BXD31] 4.84\n",
       "\\item[BXD32] 3.91\n",
       "\\item[BXD5] 4.61\n",
       "\\item[BXD6] 8.31\n",
       "\\item[BXD8] 5.11\n",
       "\\item[BXD9] 4.7\n",
       "\\item[C57BL/6J] 10.12\n",
       "\\item[DBA/2J] 4.61\n",
       "\\end{description*}\n"
      ],
      "text/markdown": [
       "BXD1\n",
       ":   4.81BXD11\n",
       ":   8.39BXD12\n",
       ":   4.71BXD13\n",
       ":   4.43BXD14\n",
       ":   4.83BXD15\n",
       ":   8.33BXD16\n",
       ":   9.72BXD18\n",
       ":   9.64BXD19\n",
       ":   10.51BXD2\n",
       ":   8.41BXD21\n",
       ":   4.2BXD22\n",
       ":   5.14BXD24\n",
       ":   5.02BXD25\n",
       ":   4.63BXD27\n",
       ":   9.03BXD28\n",
       ":   9.72BXD29\n",
       ":   9.52BXD30\n",
       ":   4.92BXD31\n",
       ":   4.84BXD32\n",
       ":   3.91BXD5\n",
       ":   4.61BXD6\n",
       ":   8.31BXD8\n",
       ":   5.11BXD9\n",
       ":   4.7C57BL/6J\n",
       ":   10.12DBA/2J\n",
       ":   4.61\n",
       "\n"
      ],
      "text/plain": [
       "    BXD1    BXD11    BXD12    BXD13    BXD14    BXD15    BXD16    BXD18    BXD19     BXD2    BXD21    BXD22 \n",
       "    4.81     8.39     4.71     4.43     4.83     8.33     9.72     9.64    10.51     8.41     4.20     5.14 \n",
       "   BXD24    BXD25    BXD27    BXD28    BXD29    BXD30    BXD31    BXD32     BXD5     BXD6     BXD8     BXD9 \n",
       "    5.02     4.63     9.03     9.72     9.52     4.92     4.84     3.91     4.61     8.31     5.11     4.70 \n",
       "C57BL/6J   DBA/2J \n",
       "   10.12     4.61 "
      ]
     },
     "metadata": {},
     "output_type": "display_data"
    }
   ],
   "source": [
    "(pheno <- tapply(phe$value, phe$sample_name, median))"
   ]
  },
  {
   "cell_type": "code",
   "execution_count": 7,
   "metadata": {},
   "outputs": [
    {
     "name": "stderr",
     "output_type": "stream",
     "text": [
      "Installing package into ‘/home/kbroman/Rlibs’\n",
      "(as ‘lib’ is unspecified)\n"
     ]
    }
   ],
   "source": [
    "install.packages(\"qtl2\", repos=\"http://rqtl.org/qtl2cran\")"
   ]
  },
  {
   "cell_type": "code",
   "execution_count": 8,
   "metadata": {},
   "outputs": [],
   "source": [
    "library(qtl2)"
   ]
  },
  {
   "cell_type": "code",
   "execution_count": 13,
   "metadata": {},
   "outputs": [],
   "source": [
    "bxd_file <- \"https://raw.githubusercontent.com/rqtl/qtl2data/master/BXD/bxd.zip\""
   ]
  },
  {
   "cell_type": "code",
   "execution_count": 14,
   "metadata": {},
   "outputs": [
    {
     "name": "stderr",
     "output_type": "stream",
     "text": [
      "Warning message in recode_geno(sheet, genotypes):\n",
      "“117497 genotypes treated as missing: \"H\"”"
     ]
    }
   ],
   "source": [
    "bxd <- read_cross2(bxd_file)"
   ]
  },
  {
   "cell_type": "code",
   "execution_count": 16,
   "metadata": {},
   "outputs": [],
   "source": [
    "gmap <- insert_pseudomarkers(bxd$gmap, step=0.2, stepwidth=\"max\")"
   ]
  },
  {
   "cell_type": "code",
   "execution_count": 17,
   "metadata": {},
   "outputs": [],
   "source": [
    "pmap <- interp_map(gmap, bxd$gmap, bxd$pmap)"
   ]
  },
  {
   "cell_type": "code",
   "execution_count": 18,
   "metadata": {},
   "outputs": [],
   "source": [
    "pr <- calc_genoprob(bxd, gmap, error_prob=0.002, map_function=\"c-f\")"
   ]
  },
  {
   "cell_type": "code",
   "execution_count": 19,
   "metadata": {},
   "outputs": [],
   "source": [
    "k <- calc_kinship(pr, \"loco\")"
   ]
  },
  {
   "cell_type": "code",
   "execution_count": 20,
   "metadata": {},
   "outputs": [],
   "source": [
    "out <- scan1(pr, pheno, k)"
   ]
  },
  {
   "cell_type": "code",
   "execution_count": 22,
   "metadata": {},
   "outputs": [
    {
     "data": {
      "image/png": "[encoded data removed]",
      "text/plain": [
       "Plot with title “”"
      ]
     },
     "metadata": {},
     "output_type": "display_data"
    }
   ],
   "source": [
    "plot(out, pmap, chr=2)"
   ]
  },
  {
   "cell_type": "code",
   "execution_count": 23,
   "metadata": {},
   "outputs": [],
   "source": [
    "mx <- max(out, pmap)"
   ]
  },
  {
   "cell_type": "code",
   "execution_count": 26,
   "metadata": {},
   "outputs": [],
   "source": [
    "g_imp <- maxmarg(pr, pmap, chr=\"2\", pos=mx$pos, return_char=TRUE)"
   ]
  },
  {
   "cell_type": "code",
   "execution_count": 27,
   "metadata": {},
   "outputs": [
    {
     "data": {
      "image/png": "[encoded data removed]",
      "text/plain": [
       "Plot with title “”"
      ]
     },
     "metadata": {},
     "output_type": "display_data"
    }
   ],
   "source": [
    "plot_pxg(g_imp, pheno)"
   ]
  }
 ],
 "metadata": {
  "kernelspec": {
   "display_name": "R",
   "language": "R",
   "name": "ir"
  },
  "language_info": {
   "codemirror_mode": "r",
   "file_extension": ".r",
   "mimetype": "text/x-r-source",
   "name": "R",
   "pygments_lexer": "r",
   "version": "3.6.0"
  }
 },
 "nbformat": 4,
 "nbformat_minor": 2
}
