{
 "cells": [
  {
   "cell_type": "code",
   "execution_count": 4,
   "metadata": {},
   "outputs": [],
   "source": [
    "import requests"
   ]
  },
  {
   "cell_type": "code",
   "execution_count": 13,
   "metadata": {},
   "outputs": [
    {
     "name": "stdout",
     "output_type": "stream",
     "text": [
      "IAPP_HUMAN\n",
      "AQP2_HUMAN\n",
      "NEU2_HUMAN\n",
      "RAD_HUMAN\n",
      "V2R_HUMAN\n",
      "PAX4_HUMAN\n",
      "HNF1A_HUMAN\n",
      "PEA15_HUMAN\n",
      "HXK4_HUMAN\n",
      "INS_HUMAN\n",
      "KCJ11_HUMAN\n",
      "ANGL8_HUMAN\n",
      "ADIPO_HUMAN\n",
      "SOX13_HUMAN\n",
      "HNF1B_HUMAN\n",
      "ATPMD_RAT\n",
      "MOT13_HUMAN\n",
      "ANR23_HUMAN\n",
      "PPR3A_HUMAN\n",
      "SUMO4_HUMAN\n",
      "IAPP_RAT\n",
      "IAPP_MOUSE\n",
      "GLUT4_HUMAN\n",
      "PDX1_HUMAN\n",
      "T53I2_HUMAN\n",
      "Q6LCT9_HUMAN\n",
      "ABCC8_HUMAN\n",
      "RAD_RAT\n",
      "ENK18_HUMAN\n",
      "MOT11_HUMAN\n",
      "CL16A_HUMAN\n",
      "IRS1_HUMAN\n",
      "HNF4A_HUMAN\n",
      "ISL1_HUMAN\n",
      "ATPMD_HUMAN\n",
      "JIP1_HUMAN\n",
      "ANR23_MOUSE\n",
      "ANGT_GORGO\n",
      "T53I2_RAT\n",
      "T53I2_MOUSE\n",
      "PLAL1_HUMAN\n",
      "GIMA4_RAT\n",
      "MAFA_HUMAN\n",
      "INSR_HUMAN\n",
      "IR3IP_HUMAN\n",
      "ZFP57_HUMAN\n",
      "FN3K_HUMAN\n",
      "INS_PSAOB\n",
      "NKX22_HUMAN\n",
      "GLIS3_HUMAN\n"
     ]
    }
   ],
   "source": [
    "res = requests.get('http://togows.org/search/ebi-uniprot/diabetes/1,50')\n",
    "print(res.text)"
   ]
  },
  {
   "cell_type": "markdown",
   "metadata": {},
   "source": [
    "In the list you'll find ANR23_HUMAN as a uniprot identifier, visit https://www.uniprot.org/ and put that in the search box - you'll find diabetes. Next we use wikidata to search for the mouse identifier/synonym. Visit https://www.wikidata.org/ and fill in the gene name ANKRD23. What is the mouse identifier? \n",
    "\n",
    "https://www.wikidata.org/wiki/Q18269255\n",
    "\n",
    "This list also shows the aliases \n",
    "\n",
    "    1110058D09Rik\n",
    "    2310041C05Rik\n",
    "    AI853437\n",
    "    Darp\n",
    "    MARP3\n",
    "    ankyrin repeat domain 23\n",
    "\n",
    "Enter arp3 in Uniprot and see what it lists. Do the same in wikidata and see if you can find the 3D model of the protein.\n",
    "\n"
   ]
  },
  {
   "cell_type": "markdown",
   "metadata": {},
   "source": [
    "Moving from translational, let's see if we can look in some publications\n"
   ]
  },
  {
   "cell_type": "code",
   "execution_count": 9,
   "metadata": {},
   "outputs": [
    {
     "name": "stdout",
     "output_type": "stream",
     "text": [
      "31070248\n",
      "31063459\n",
      "30954333\n",
      "30758701\n",
      "30702192\n",
      "30542151\n",
      "30503751\n",
      "30463620\n",
      "30396755\n",
      "30214158\n",
      "30150414\n",
      "30099167\n",
      "30049513\n",
      "29981920\n",
      "29945904\n",
      "29934435\n",
      "29804877\n",
      "29668757\n",
      "29540444\n",
      "29395083\n",
      "29386393\n",
      "29339159\n",
      "29307582\n",
      "29179463\n",
      "29058690\n",
      "29042920\n",
      "28865027\n",
      "28602951\n",
      "28575439\n",
      "28439067\n",
      "28302911\n",
      "28293092\n",
      "28170369\n",
      "27939292\n",
      "27924678\n",
      "27904039\n",
      "27900558\n",
      "27566003\n",
      "27537257\n",
      "27473572\n",
      "27417392\n",
      "27358069\n",
      "27325766\n",
      "27181356\n",
      "27031835\n",
      "26991540\n",
      "26976641\n",
      "26773384\n",
      "26691754\n",
      "26655834\n"
     ]
    }
   ],
   "source": [
    "res = requests.get('http://togows.org/search/ncbi-pubmed/arp3/1,50')\n",
    "print(res.text)"
   ]
  },
  {
   "cell_type": "markdown",
   "metadata": {},
   "source": [
    "Let's visit a publication using https://www.ncbi.nlm.nih.gov/pubmed/?term=27537257\n"
   ]
  },
  {
   "cell_type": "code",
   "execution_count": 12,
   "metadata": {},
   "outputs": [
    {
     "name": "stdout",
     "output_type": "stream",
     "text": [
      "PURPOSE: To elucidate the proteins required for specialized small interlocking protrusions and large paddle domains at lens fiber cell tricellular junctions (vertices), we developed a novel method to immunostain single lens fibers and studied changes in cell morphology due to loss of tropomodulin 1 (Tmod1), an F-actin pointed end-capping protein. METHODS: We investigated F-actin and F-actin-binding protein localization in interdigitations of Tmod1+/+ and Tmod1-/- single mature lens fibers. RESULTS: F-actin-rich small protrusions and large paddles were present along cell vertices of Tmod1+/+ mature fibers. In contrast, Tmod1-/- mature fiber cells lack normal paddle domains, while small protrusions were unaffected. In Tmod1+/+ mature fibers, Tmod1, beta2-spectrin, and alpha-actinin are localized in large puncta in valleys between paddles; but in Tmod1-/- mature fibers, beta2-spectrin was dispersed while alpha-actinin was redistributed at the base of small protrusions and rudimentary paddles. Fimbrin and Arp3 (actin-related protein 3) were located in puncta at the base of small protrusions, while N-cadherin and ezrin outlined the cell membrane in both Tmod1+/+ and Tmod1-/- mature fibers. CONCLUSIONS: These results suggest that distinct F-actin organizations are present in small protrusions versus large paddles. Formation and/or maintenance of large paddle domains depends on a beta2-spectrin-actin network stabilized by Tmod1. alpha-Actinin-crosslinked F-actin bundles are enhanced in absence of Tmod1, indicating altered cytoskeleton organization. Formation of small protrusions is likely facilitated by Arp3-branched and fimbrin-bundled F-actin networks, which do not depend on Tmod1. This is the first work to reveal the F-actin-associated proteins required for the formation of paddles between lens fibers.\n",
      "\n"
     ]
    }
   ],
   "source": [
    "res = requests.get('http://togows.org/entry/ncbi-pubmed/27537257/abstract')\n",
    "print(res.text)\n"
   ]
  },
  {
   "cell_type": "code",
   "execution_count": 17,
   "metadata": {},
   "outputs": [
    {
     "name": "stdout",
     "output_type": "stream",
     "text": [
      "[\n",
      "  [\n",
      "    \"Cheng, C.\",\n",
      "    \"Nowak, R. B.\",\n",
      "    \"Biswas, S. K.\",\n",
      "    \"Lo, W. K.\",\n",
      "    \"FitzGerald, P. G.\",\n",
      "    \"Fowler, V. M.\"\n",
      "  ]\n",
      "]\n"
     ]
    }
   ],
   "source": [
    "res = requests.get('http://togows.org/entry/ncbi-pubmed/27537257/authors.json')\n",
    "print(res.text)\n"
   ]
  },
  {
   "cell_type": "code",
   "execution_count": 26,
   "metadata": {},
   "outputs": [
    {
     "name": "stdout",
     "output_type": "stream",
     "text": [
      "['Cheng, C.', 'Nowak, R. B.', 'Biswas, S. K.', 'Lo, W. K.', 'FitzGerald, P. G.', 'Fowler, V. M.']\n"
     ]
    }
   ],
   "source": [
    "res = requests.get('http://togows.org/entry/ncbi-pubmed/27537257/authors.json')\n",
    "authors = res.json()[0]\n",
    "print(authors)"
   ]
  },
  {
   "cell_type": "raw",
   "metadata": {},
   "source": []
  }
 ],
 "metadata": {
  "kernelspec": {
   "display_name": "Python 3",
   "language": "python",
   "name": "python3"
  },
  "language_info": {
   "codemirror_mode": {
    "name": "ipython",
    "version": 3
   },
   "file_extension": ".py",
   "mimetype": "text/x-python",
   "name": "python",
   "nbconvert_exporter": "python",
   "pygments_lexer": "ipython3",
   "version": "3.7.0"
  }
 },
 "nbformat": 4,
 "nbformat_minor": 2
}
